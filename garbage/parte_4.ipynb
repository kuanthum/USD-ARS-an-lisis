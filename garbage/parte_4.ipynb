{
 "cells": [
  {
   "cell_type": "code",
   "execution_count": 1,
   "metadata": {},
   "outputs": [],
   "source": [
    "import pandas as pd\n",
    "import numpy as np\n",
    "from datetime import date as dt\n",
    "from dateutil.relativedelta import relativedelta\n",
    "from sklearn.model_selection import train_test_split\n",
    "from sklearn.linear_model import LinearRegression"
   ]
  },
  {
   "cell_type": "code",
   "execution_count": 6,
   "metadata": {},
   "outputs": [],
   "source": [
    "def prediccion_linear_dolar(dolar, meses, desde='2018-01-01'):\n",
    "\n",
    "    # Obtener datos\n",
    "    usd = pd.read_csv('data/usd_blue.csv', index_col=0)\n",
    "    usd_oficial = pd.read_csv('data/usd_oficial.csv', index_col=0)\n",
    "\n",
    "    data = pd.merge(usd_oficial, usd, how='right',on='fecha')\n",
    "\n",
    "    data['fecha'] = pd.to_datetime(data['fecha']) #Convertimos el tipo de dato de la columna\n",
    "    data['fecha_numerico']= data['fecha'].map(dt.toordinal) #Creamos columna con valores numéricos a partir de la fecha\n",
    "    data['mes_index'] = pd.DatetimeIndex(data['fecha']).month # Creamos un índice de meses \n",
    "\n",
    "    data = data[data.fecha > desde].copy(deep=True)\n",
    "\n",
    "    # Se inputan los valores faltantes con los datos no nulos mas cercanos\n",
    "    # Se elige este método por las caracteristicas propias de la variable que estamos tratando\n",
    "    data['dolar_oficial'] = data['dolar_oficial'].interpolate(method='nearest')\n",
    "    data['dolar_blue'] = data['dolar_blue'].interpolate(method='nearest')\n",
    "\n",
    "    #Separamos variables\n",
    "    X = data['fecha_numerico'].values.reshape(-1,1)\n",
    "    if dolar == 'blue':\n",
    "        y = data['dolar_blue'].values.reshape(-1,1)\n",
    "    else:\n",
    "        y = data['dolar_oficial'].values.reshape(-1,1)\n",
    "\n",
    "    #Entrenamos el modelo\n",
    "    X_train, X_test, y_train, y_test = train_test_split(X, y, test_size=0.3, random_state=42)\n",
    "    modelo = LinearRegression(fit_intercept=True)\n",
    "    modelo.fit(X_train, y_train)\n",
    "    #y_test_pred = modelo.predict(X_test)\n",
    "\n",
    "    f_pred = dt.today() + relativedelta(months=+meses) # Generamos una fecha a partir de la cantidad de meses que queremos predecir\n",
    "    f_ord = f_pred.toordinal() # Covertimos la fecha a un dato numerico\n",
    "    f_ord = np.array(f_ord).reshape(-1,1) \n",
    "    precio_predicho = modelo.predict(f_ord)\n",
    "    print(f'La predicción del precio del dolar {dolar}, para la fecha {f_pred} es de: {round(precio_predicho[0][0], 2)} pesos.')\n",
    "\n",
    "    return None"
   ]
  },
  {
   "cell_type": "code",
   "execution_count": 8,
   "metadata": {},
   "outputs": [
    {
     "name": "stdout",
     "output_type": "stream",
     "text": [
      "La predicción del precio del dolar blue, para la fecha 2022-11-05 es de: 245.28 pesos\n"
     ]
    }
   ],
   "source": [
    "prediccion_linear_dolar('blue',3)"
   ]
  }
 ],
 "metadata": {
  "kernelspec": {
   "display_name": "Python 3.10.2 64-bit",
   "language": "python",
   "name": "python3"
  },
  "language_info": {
   "codemirror_mode": {
    "name": "ipython",
    "version": 3
   },
   "file_extension": ".py",
   "mimetype": "text/x-python",
   "name": "python",
   "nbconvert_exporter": "python",
   "pygments_lexer": "ipython3",
   "version": "3.10.2"
  },
  "orig_nbformat": 4,
  "vscode": {
   "interpreter": {
    "hash": "e36d3b1cbb4fb2a95efce5a4bc49ab2e84ae5beb3185e07de881d586ab467705"
   }
  }
 },
 "nbformat": 4,
 "nbformat_minor": 2
}
